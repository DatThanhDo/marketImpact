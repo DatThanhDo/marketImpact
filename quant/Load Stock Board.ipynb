{
 "cells": [
  {
   "cell_type": "code",
   "execution_count": 46,
   "source": [
    "import pandas\r\n",
    "import requests\r\n",
    "from bs4 import BeautifulSoup\r\n",
    "import pandas as pd\r\n",
    "import numpy as np\r\n",
    "from selenium import webdriver\r\n",
    "%load_ext autoreload\r\n",
    "%autoreload 2"
   ],
   "outputs": [
    {
     "output_type": "stream",
     "name": "stdout",
     "text": [
      "The autoreload extension is already loaded. To reload it, use:\n",
      "  %reload_ext autoreload\n"
     ]
    }
   ],
   "metadata": {}
  },
  {
   "cell_type": "code",
   "execution_count": 49,
   "source": [
    "\r\n",
    "def extract_price(string_price):\r\n",
    "    return float(string_price.replace(',', ''))\r\n",
    "def extract_percent_price(string_price):\r\n",
    "    return float(string_price[:-1].replace(',', ''))\r\n"
   ],
   "outputs": [],
   "metadata": {}
  },
  {
   "cell_type": "code",
   "execution_count": 15,
   "source": [
    "url = 'https://iboard.ssi.com.vn/bang-gia/hose'\r\n",
    "PATH=r\"C:\\Users\\ThanhDat\\Desktop\\worldquant 2021\\chromedriver.exe\"\r\n",
    "driver = webdriver.Chrome(PATH)\r\n",
    "driver.get(url)\r\n",
    "driver.maximize_window()        \r\n"
   ],
   "outputs": [],
   "metadata": {}
  },
  {
   "cell_type": "code",
   "execution_count": 19,
   "source": [
    "html = driver.page_source\r\n",
    "soup = BeautifulSoup(html, 'lxml')\r\n",
    "\r\n",
    "body = soup.find('tbody', {'id': 'table-body-scroll'}) # the argument is the html tag and its attributes"
   ],
   "outputs": [],
   "metadata": {}
  },
  {
   "cell_type": "code",
   "execution_count": 34,
   "source": [
    "rows = body.select('tr') # get the rows of the table and covert them to the form we could use"
   ],
   "outputs": [],
   "metadata": {}
  },
  {
   "cell_type": "code",
   "execution_count": 64,
   "source": [
    "stock_name =  []\r\n",
    "ceiling_prices = []\r\n",
    "floor_prices = []\r\n",
    "local_prices = []\r\n",
    "change_percent = []\r\n",
    "change_price  = []\r\n",
    "close_prices = []\r\n",
    "volume = []\r\n",
    "high_prices = []\r\n",
    "low_prices = []\r\n",
    "foreign_investor_buy = []\r\n",
    "foreign_investor_sell = []\r\n",
    "\r\n",
    "for i, row in enumerate(rows):\r\n",
    "    data = row.select('td')\r\n",
    "    \r\n",
    "    check_volume = (data[20].get_text())\r\n",
    "    if(check_volume == '' ):\r\n",
    "        continue\r\n",
    "    stock_name.append(data[0].get_text())\r\n",
    "    ceiling_prices.append(extract_price(data[1].get_text()))\r\n",
    "    floor_prices.append(extract_price(data[2].get_text()))\r\n",
    "    local_prices.append(extract_price(data[3].get_text()))\r\n",
    "    print(i, data[10].get_text())\r\n",
    "    close_prices.append(float(data[10].get_text()))\r\n",
    "    \r\n",
    "    change_price.append(extract_price(data[12].get_text()))\r\n",
    "    change_percent.append(extract_percent_price(data[13].get_text()))\r\n",
    "    volume.append(extract_price(data[20].get_text()))\r\n",
    "    high_prices.append(extract_price(data[21].get_text()))\r\n",
    "    low_prices.append(extract_price(data[22].get_text()))\r\n",
    "    #foreign_investor_buy.append(extract_price(data[23].get_text()))\r\n",
    "    #foreign_investor_sell.append(extract_price(data[24].get_text()))\r\n",
    "\r\n",
    "df = pd.DataFrame({'Name':stock_name, 'Ceiling_price':ceiling_prices, 'Floor_price':floor_prices,'Local_price':local_prices, 'Close':close_prices, \r\n",
    "                    'Change_price':change_price, 'Change_percent':change_percent, 'Volume':volume, 'High':high_prices, 'Low': low_prices, 'Foreign_investor_buy':foreign_investor_buy,\r\n",
    "                    'Foregin_investor_sell': foreign_investor_sell})"
   ],
   "outputs": [
    {
     "output_type": "stream",
     "name": "stdout",
     "text": [
      "0 15.7\n",
      "1 11.25\n",
      "2 22\n",
      "3 20.95\n",
      "4 32\n",
      "5 31.55\n",
      "6 16.6\n",
      "7 12.65\n",
      "8 42\n",
      "9 37.3\n",
      "10 42.3\n",
      "11 36.5\n",
      "12 16.2\n",
      "13 4.8\n",
      "14 28.65\n",
      "15 23.35\n",
      "16 18.7\n",
      "17 40.6\n",
      "18 28.3\n",
      "19 15.2\n",
      "20 13.95\n",
      "21 56.5\n",
      "22 63.4\n",
      "23 14.05\n",
      "24 18.05\n",
      "25 44.6\n",
      "26 34.25\n",
      "27 62\n",
      "28 28.8\n",
      "29 39.45\n",
      "30 10.2\n",
      "31 31.5\n",
      "32 40.9\n",
      "33 52.8\n",
      "34 15.45\n",
      "35 26.8\n",
      "36 17.65\n",
      "37 \n"
     ]
    },
    {
     "output_type": "error",
     "ename": "ValueError",
     "evalue": "could not convert string to float: ''",
     "traceback": [
      "\u001b[1;31m---------------------------------------------------------------------------\u001b[0m",
      "\u001b[1;31mValueError\u001b[0m                                Traceback (most recent call last)",
      "\u001b[1;32m<ipython-input-64-91a8b0b17144>\u001b[0m in \u001b[0;36m<module>\u001b[1;34m\u001b[0m\n\u001b[0;32m     19\u001b[0m     \u001b[0mlocal_prices\u001b[0m\u001b[1;33m.\u001b[0m\u001b[0mappend\u001b[0m\u001b[1;33m(\u001b[0m\u001b[0mextract_price\u001b[0m\u001b[1;33m(\u001b[0m\u001b[0mdata\u001b[0m\u001b[1;33m[\u001b[0m\u001b[1;36m3\u001b[0m\u001b[1;33m]\u001b[0m\u001b[1;33m.\u001b[0m\u001b[0mget_text\u001b[0m\u001b[1;33m(\u001b[0m\u001b[1;33m)\u001b[0m\u001b[1;33m)\u001b[0m\u001b[1;33m)\u001b[0m\u001b[1;33m\u001b[0m\u001b[1;33m\u001b[0m\u001b[0m\n\u001b[0;32m     20\u001b[0m     \u001b[0mprint\u001b[0m\u001b[1;33m(\u001b[0m\u001b[0mi\u001b[0m\u001b[1;33m,\u001b[0m \u001b[0mdata\u001b[0m\u001b[1;33m[\u001b[0m\u001b[1;36m10\u001b[0m\u001b[1;33m]\u001b[0m\u001b[1;33m.\u001b[0m\u001b[0mget_text\u001b[0m\u001b[1;33m(\u001b[0m\u001b[1;33m)\u001b[0m\u001b[1;33m)\u001b[0m\u001b[1;33m\u001b[0m\u001b[1;33m\u001b[0m\u001b[0m\n\u001b[1;32m---> 21\u001b[1;33m     \u001b[0mclose_prices\u001b[0m\u001b[1;33m.\u001b[0m\u001b[0mappend\u001b[0m\u001b[1;33m(\u001b[0m\u001b[0mfloat\u001b[0m\u001b[1;33m(\u001b[0m\u001b[0mdata\u001b[0m\u001b[1;33m[\u001b[0m\u001b[1;36m10\u001b[0m\u001b[1;33m]\u001b[0m\u001b[1;33m.\u001b[0m\u001b[0mget_text\u001b[0m\u001b[1;33m(\u001b[0m\u001b[1;33m)\u001b[0m\u001b[1;33m)\u001b[0m\u001b[1;33m)\u001b[0m\u001b[1;33m\u001b[0m\u001b[1;33m\u001b[0m\u001b[0m\n\u001b[0m\u001b[0;32m     22\u001b[0m \u001b[1;33m\u001b[0m\u001b[0m\n\u001b[0;32m     23\u001b[0m     \u001b[0mchange_price\u001b[0m\u001b[1;33m.\u001b[0m\u001b[0mappend\u001b[0m\u001b[1;33m(\u001b[0m\u001b[0mextract_price\u001b[0m\u001b[1;33m(\u001b[0m\u001b[0mdata\u001b[0m\u001b[1;33m[\u001b[0m\u001b[1;36m12\u001b[0m\u001b[1;33m]\u001b[0m\u001b[1;33m.\u001b[0m\u001b[0mget_text\u001b[0m\u001b[1;33m(\u001b[0m\u001b[1;33m)\u001b[0m\u001b[1;33m)\u001b[0m\u001b[1;33m)\u001b[0m\u001b[1;33m\u001b[0m\u001b[1;33m\u001b[0m\u001b[0m\n",
      "\u001b[1;31mValueError\u001b[0m: could not convert string to float: ''"
     ]
    }
   ],
   "metadata": {}
  },
  {
   "cell_type": "code",
   "execution_count": 61,
   "source": [
    "rows[36]"
   ],
   "outputs": [
    {
     "output_type": "execute_result",
     "data": {
      "text/plain": [
       "<tr data-scroll-page=\"1\" find-data=\"36\" id=\"BTP\"><td class=\"stockSymbol txt-ceil\" data-tooltip=\"Công ty Cổ phần Nhiệt điện Bà Rịa\">BTP</td><td class=\"ceiling special txt-ceil text-right\">17.65</td><td class=\"floor special txt-floor text-right\">15.35</td><td class=\"refPrice special txt-ref text-right\">16.5</td><td class=\"best3Bid priceCell txt-up\"><div class=\"highlightable\">16.9</div></td><td class=\"best3BidVol priceCell txt-up\"><div class=\"highlightable\">50</div></td><td class=\"best2Bid priceCell txt-up\"><div class=\"highlightable\">16.95</div></td><td class=\"best2BidVol priceCell txt-up\"><div class=\"highlightable\">40</div></td><td class=\"best1Bid priceCell txt-ceil\"><div class=\"highlightable\">17.65</div></td><td class=\"best1BidVol priceCell txt-ceil\"><div class=\"highlightable\">31,00</div></td><td class=\"matchedPrice special priceCell txt-ceil\"><div class=\"highlightable\">17.65</div></td><td class=\"matchedVolume special priceCell txt-ceil\"><div class=\"highlightable\">1,00</div></td><td class=\"priceChange special txt-ceil\"><div class=\"highlightable\">1.15</div></td><td class=\"priceChangePercent special txt-ceil\"><div class=\"highlightable\">7.0<small>%</small></div></td><td class=\"best1Offer priceCell txt-down\"><div class=\"highlightable\"></div></td><td class=\"best1OfferVol priceCell txt-down\"><div class=\"highlightable\"></div></td><td class=\"best2Offer priceCell txt-down\"><div class=\"highlightable\"></div></td><td class=\"best2OfferVol priceCell txt-down\"><div class=\"highlightable\"></div></td><td class=\"best3Offer priceCell txt-down\"><div class=\"highlightable\"></div></td><td class=\"best3OfferVol priceCell txt-down\"><div class=\"highlightable\"></div></td><td class=\"nmTotalTradedQty special txt-normal\"><div class=\"highlightable\">131,80</div></td><td class=\"highest special txt-ceil\"><div class=\"highlightable\">17.65</div></td><td class=\"lowest special txt-down\"><div class=\"highlightable\">16.3</div></td><td class=\"buyForeignQtty txt-normal\"><div class=\"highlightable\"></div></td><td class=\"sellForeignQtty txt-normal\"><div class=\"highlightable\"></div></td><td class=\"remainForeignQtty txt-normal\"><div class=\"highlightable\">24,065,32</div></td></tr>"
      ]
     },
     "metadata": {},
     "execution_count": 61
    }
   ],
   "metadata": {}
  },
  {
   "cell_type": "code",
   "execution_count": null,
   "source": [],
   "outputs": [],
   "metadata": {}
  }
 ],
 "metadata": {
  "language_info": {
   "name": "python",
   "version": "3.9.0",
   "mimetype": "text/x-python",
   "codemirror_mode": {
    "name": "ipython",
    "version": 3
   },
   "pygments_lexer": "ipython3",
   "nbconvert_exporter": "python",
   "file_extension": ".py"
  },
  "kernelspec": {
   "name": "python3",
   "display_name": "Python 3.9.0 64-bit"
  },
  "interpreter": {
   "hash": "d7b3585b082757e774ad32d33453e97f7aca87ebf5a5287e8a661f3d04539567"
  }
 },
 "nbformat": 4,
 "nbformat_minor": 4
}